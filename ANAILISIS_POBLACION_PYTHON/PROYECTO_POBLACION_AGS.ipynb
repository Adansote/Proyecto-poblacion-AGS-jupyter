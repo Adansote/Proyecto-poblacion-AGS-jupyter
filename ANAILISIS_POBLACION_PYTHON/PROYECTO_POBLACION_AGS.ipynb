{
 "cells": [
  {
   "cell_type": "markdown",
   "id": "432403de",
   "metadata": {},
   "source": [
    "**                            PROYECTO POBLACION DE AGUSCALIENTES                                 **"
   ]
  },
  {
   "cell_type": "markdown",
   "id": "dd15699b",
   "metadata": {},
   "source": [
    "Proyecto de análisis de datos sobre la población total de México y de Aguascalientes, utilizando la Metodología de Análisis de Datos de Google. 📈\n",
    "\n",
    "La metodología de Google sigue seis pasos principales:\n",
    "\n",
    "*Preguntar (Ask)\n",
    "*Preparar (Prepare)\n",
    "*Procesar (Process)\n",
    "*Analizar (Analyze)\n",
    "*Compartir (Share)\n",
    "*Actuar (Act)"
   ]
  },
  {
   "cell_type": "markdown",
   "id": "e6cd8177",
   "metadata": {},
   "source": [
    "1.- Pregunatar \n",
    "En esta fase, se define el problema y se establecen las metas.\n",
    "\n",
    "Objetivo de negocio: Comprender la distribución y las tendencias de la población en México, enfocándose en Aguascalientes y sus municipios.\n",
    "\n",
    "Preguntas clave a responder:\n",
    "\n",
    "¿Cuál es la población total de Aguascalientes?\n",
    "\n",
    "¿Cómo se distribuye la población entre los municipios de Aguascalientes?\n",
    "\n",
    "¿Cuál es el municipio más y menos poblado?\n",
    "\n",
    "¿Cual es la distribucion de poblacion por genero ?\n",
    "\n",
    "Métricas a medir: Población total (absoluta), porcentajes de distribución municipal y estatal."
   ]
  },
  {
   "cell_type": "markdown",
   "id": "30ff79d2",
   "metadata": {},
   "source": [
    "2.- Preparar\n",
    "- Fuente de datos: Tu archivo CSV (fuente oficiale del INEGI).\n",
    "\n",
    "- Tipo de datos: Cuantitativos (números de población) y cualitativos (nombres de estados y municipios).\n",
    "\n",
    "Organización:\n",
    "\n",
    "Asegúrate de que el CSV tenga columnas claras como: Entidad Federativa, Municipio, y Población Total.\n",
    "\n",
    "Si tienes datos de diferentes años, asegúrate de tener una columna de Año.\n",
    "\n",
    "Herramientas: Hojas de cálculo (Excel) o lenguajes de programación como Python jupyther (con librerías como Pandas) ,VS code"
   ]
  },
  {
   "cell_type": "markdown",
   "id": "cfc8a65e",
   "metadata": {},
   "source": [
    "3.- Procesar \n",
    "Aquí se limpian y transforman los datos para que sean aptos para el análisis.\n",
    "\n",
    "Limpieza de datos (Data Cleaning):\n",
    "\n",
    "- Identificación de errores: Buscar valores faltantes (NaN,    celdas  vacías), valores atípicos (poblaciones que parecen ser errores de entrada).\n",
    "\n",
    "* Consistencia: Estandarizar los nombres de las entidades y municipios (ej. evitar \"AgS\" y usar solo \"Aguascalientes\").\n",
    "* Formato: Asegurar que la columna de Población Total esté en formato numérico (sin comas ni puntos de miles que Python o R puedan interpretar mal).\n",
    "\n",
    "- Transformación de datos:\n",
    "\n",
    "* Crear subconjuntos de datos: Filtrar solo los datos de Aguascalientes para el análisis municipal detallado.\n",
    "\n",
    "* Agregar nuevas columnas si es necesario (ej. una columna de porcentaje de la población estatal por municipio)."
   ]
  },
  {
   "cell_type": "code",
   "execution_count": 1,
   "id": "c50c4c8f",
   "metadata": {},
   "outputs": [],
   "source": [
    "# 1.- importar librerias y carga de datos \n",
    "import pandas as pd \n",
    "import numpy \n",
    "import matplotlib "
   ]
  },
  {
   "cell_type": "code",
   "execution_count": 2,
   "id": "2ac34c4b",
   "metadata": {},
   "outputs": [],
   "source": [
    "# carga de datos \n",
    "df_data = pd.read_csv(\"DATA/copy_data.csv\")"
   ]
  },
  {
   "cell_type": "code",
   "execution_count": 3,
   "id": "8d651577",
   "metadata": {},
   "outputs": [
    {
     "name": "stdout",
     "output_type": "stream",
     "text": [
      " * viasuliza las primeras 5 filas *\n"
     ]
    },
    {
     "data": {
      "text/html": [
       "<div>\n",
       "<style scoped>\n",
       "    .dataframe tbody tr th:only-of-type {\n",
       "        vertical-align: middle;\n",
       "    }\n",
       "\n",
       "    .dataframe tbody tr th {\n",
       "        vertical-align: top;\n",
       "    }\n",
       "\n",
       "    .dataframe thead th {\n",
       "        text-align: right;\n",
       "    }\n",
       "</style>\n",
       "<table border=\"1\" class=\"dataframe\">\n",
       "  <thead>\n",
       "    <tr style=\"text-align: right;\">\n",
       "      <th></th>\n",
       "      <th>ENTIDAD</th>\n",
       "      <th>NOM_ENT</th>\n",
       "      <th>MUN</th>\n",
       "      <th>NOM_MUN</th>\n",
       "      <th>LOC</th>\n",
       "      <th>NOM_LOC</th>\n",
       "      <th>LONGITUD</th>\n",
       "      <th>LATITUD</th>\n",
       "      <th>ALTITUD</th>\n",
       "      <th>POBTOT</th>\n",
       "      <th>...</th>\n",
       "      <th>VPH_CEL</th>\n",
       "      <th>VPH_INTER</th>\n",
       "      <th>VPH_STVP</th>\n",
       "      <th>VPH_SPMVPI</th>\n",
       "      <th>VPH_CVJ</th>\n",
       "      <th>VPH_SINRTV</th>\n",
       "      <th>VPH_SINLTC</th>\n",
       "      <th>VPH_SINCINT</th>\n",
       "      <th>VPH_SINTIC</th>\n",
       "      <th>TAMLOC</th>\n",
       "    </tr>\n",
       "  </thead>\n",
       "  <tbody>\n",
       "    <tr>\n",
       "      <th>0</th>\n",
       "      <td>1</td>\n",
       "      <td>Aguascalientes</td>\n",
       "      <td>0</td>\n",
       "      <td>Total de la entidad Aguascalientes</td>\n",
       "      <td>0</td>\n",
       "      <td>Total de la Entidad</td>\n",
       "      <td>NaN</td>\n",
       "      <td>NaN</td>\n",
       "      <td>NaN</td>\n",
       "      <td>1425607</td>\n",
       "      <td>...</td>\n",
       "      <td>359895</td>\n",
       "      <td>236003</td>\n",
       "      <td>174089</td>\n",
       "      <td>98724</td>\n",
       "      <td>70126</td>\n",
       "      <td>6021</td>\n",
       "      <td>15323</td>\n",
       "      <td>128996</td>\n",
       "      <td>1711</td>\n",
       "      <td>*</td>\n",
       "    </tr>\n",
       "    <tr>\n",
       "      <th>1</th>\n",
       "      <td>1</td>\n",
       "      <td>Aguascalientes</td>\n",
       "      <td>0</td>\n",
       "      <td>Total de la entidad Aguascalientes</td>\n",
       "      <td>9998</td>\n",
       "      <td>Localidades de una vivienda</td>\n",
       "      <td>NaN</td>\n",
       "      <td>NaN</td>\n",
       "      <td>NaN</td>\n",
       "      <td>3697</td>\n",
       "      <td>...</td>\n",
       "      <td>732</td>\n",
       "      <td>205</td>\n",
       "      <td>212</td>\n",
       "      <td>48</td>\n",
       "      <td>41</td>\n",
       "      <td>39</td>\n",
       "      <td>62</td>\n",
       "      <td>530</td>\n",
       "      <td>20</td>\n",
       "      <td>*</td>\n",
       "    </tr>\n",
       "    <tr>\n",
       "      <th>2</th>\n",
       "      <td>1</td>\n",
       "      <td>Aguascalientes</td>\n",
       "      <td>0</td>\n",
       "      <td>Total de la entidad Aguascalientes</td>\n",
       "      <td>9999</td>\n",
       "      <td>Localidades de dos viviendas</td>\n",
       "      <td>NaN</td>\n",
       "      <td>NaN</td>\n",
       "      <td>NaN</td>\n",
       "      <td>3021</td>\n",
       "      <td>...</td>\n",
       "      <td>470</td>\n",
       "      <td>146</td>\n",
       "      <td>156</td>\n",
       "      <td>35</td>\n",
       "      <td>38</td>\n",
       "      <td>25</td>\n",
       "      <td>44</td>\n",
       "      <td>330</td>\n",
       "      <td>11</td>\n",
       "      <td>*</td>\n",
       "    </tr>\n",
       "    <tr>\n",
       "      <th>3</th>\n",
       "      <td>1</td>\n",
       "      <td>Aguascalientes</td>\n",
       "      <td>1</td>\n",
       "      <td>Aguascalientes</td>\n",
       "      <td>0</td>\n",
       "      <td>Total del Municipio</td>\n",
       "      <td>NaN</td>\n",
       "      <td>NaN</td>\n",
       "      <td>NaN</td>\n",
       "      <td>948990</td>\n",
       "      <td>...</td>\n",
       "      <td>251719</td>\n",
       "      <td>178619</td>\n",
       "      <td>130290</td>\n",
       "      <td>80951</td>\n",
       "      <td>56131</td>\n",
       "      <td>3299</td>\n",
       "      <td>7293</td>\n",
       "      <td>74227</td>\n",
       "      <td>731</td>\n",
       "      <td>*</td>\n",
       "    </tr>\n",
       "    <tr>\n",
       "      <th>4</th>\n",
       "      <td>1</td>\n",
       "      <td>Aguascalientes</td>\n",
       "      <td>1</td>\n",
       "      <td>Aguascalientes</td>\n",
       "      <td>1</td>\n",
       "      <td>Aguascalientes</td>\n",
       "      <td>102°17'45.768\" W</td>\n",
       "      <td>21°52'47.362\" N</td>\n",
       "      <td>1878.0</td>\n",
       "      <td>863893</td>\n",
       "      <td>...</td>\n",
       "      <td>232793</td>\n",
       "      <td>169675</td>\n",
       "      <td>123670</td>\n",
       "      <td>77719</td>\n",
       "      <td>53589</td>\n",
       "      <td>2995</td>\n",
       "      <td>5984</td>\n",
       "      <td>63661</td>\n",
       "      <td>595</td>\n",
       "      <td>13</td>\n",
       "    </tr>\n",
       "  </tbody>\n",
       "</table>\n",
       "<p>5 rows × 286 columns</p>\n",
       "</div>"
      ],
      "text/plain": [
       "   ENTIDAD         NOM_ENT  MUN                             NOM_MUN   LOC  \\\n",
       "0        1  Aguascalientes    0  Total de la entidad Aguascalientes     0   \n",
       "1        1  Aguascalientes    0  Total de la entidad Aguascalientes  9998   \n",
       "2        1  Aguascalientes    0  Total de la entidad Aguascalientes  9999   \n",
       "3        1  Aguascalientes    1                      Aguascalientes     0   \n",
       "4        1  Aguascalientes    1                      Aguascalientes     1   \n",
       "\n",
       "                        NOM_LOC          LONGITUD          LATITUD  ALTITUD  \\\n",
       "0           Total de la Entidad               NaN              NaN      NaN   \n",
       "1   Localidades de una vivienda               NaN              NaN      NaN   \n",
       "2  Localidades de dos viviendas               NaN              NaN      NaN   \n",
       "3           Total del Municipio               NaN              NaN      NaN   \n",
       "4                Aguascalientes  102°17'45.768\" W  21°52'47.362\" N   1878.0   \n",
       "\n",
       "    POBTOT  ... VPH_CEL VPH_INTER VPH_STVP VPH_SPMVPI VPH_CVJ VPH_SINRTV  \\\n",
       "0  1425607  ...  359895    236003   174089      98724   70126       6021   \n",
       "1     3697  ...     732       205      212         48      41         39   \n",
       "2     3021  ...     470       146      156         35      38         25   \n",
       "3   948990  ...  251719    178619   130290      80951   56131       3299   \n",
       "4   863893  ...  232793    169675   123670      77719   53589       2995   \n",
       "\n",
       "  VPH_SINLTC VPH_SINCINT VPH_SINTIC TAMLOC  \n",
       "0      15323      128996       1711      *  \n",
       "1         62         530         20      *  \n",
       "2         44         330         11      *  \n",
       "3       7293       74227        731      *  \n",
       "4       5984       63661        595     13  \n",
       "\n",
       "[5 rows x 286 columns]"
      ]
     },
     "execution_count": 3,
     "metadata": {},
     "output_type": "execute_result"
    }
   ],
   "source": [
    "# visualizar las primeras 5 filas \n",
    "print(\" * viasuliza las primeras 5 filas *\")\n",
    "df_data.head()"
   ]
  },
  {
   "cell_type": "code",
   "execution_count": 4,
   "id": "0cf635f4",
   "metadata": {},
   "outputs": [
    {
     "name": "stdout",
     "output_type": "stream",
     "text": [
      " * informacion de columnas y tipos de dato *\n",
      "<class 'pandas.core.frame.DataFrame'>\n",
      "RangeIndex: 2058 entries, 0 to 2057\n",
      "Columns: 286 entries, ENTIDAD to TAMLOC\n",
      "dtypes: float64(1), int64(6), object(279)\n",
      "memory usage: 4.5+ MB\n"
     ]
    }
   ],
   "source": [
    "\n",
    "# funcion info para el tipo de datos \n",
    "print(\" * informacion de columnas y tipos de dato *\")\n",
    "df_data.info()"
   ]
  },
  {
   "cell_type": "markdown",
   "id": "ae5f3573",
   "metadata": {},
   "source": [
    "Limpieza y filtrado inicial "
   ]
  },
  {
   "cell_type": "markdown",
   "id": "4182e241",
   "metadata": {},
   "source": [
    "que columnas necesitamospara este analisis de filtrado \n",
    "MUN = id de municipio 001 a aguscalientes 000 total municipio\n",
    "POBTOT = poblacion total\n",
    "POBFEM = poblacion femenina\n",
    "POBMAS = poblacion masculina\n",
    "NOM_LOC = nombre de la localidad \n",
    "NOM_MUN = nombre de muicipio\n",
    "ENTIDAD = 1 que es ags  Y POBTOT"
   ]
  },
  {
   "cell_type": "code",
   "execution_count": 5,
   "id": "5d5d213f",
   "metadata": {},
   "outputs": [],
   "source": [
    "# PASO 1: Filtrar solo la Entidad de Aguascalientes (Código de Entidad = 1)\n",
    "df_ags =df_data[df_data[\"ENTIDAD\"]== 1 ].copy() #usamos copy para evitar advertencias"
   ]
  },
  {
   "cell_type": "code",
   "execution_count": 6,
   "id": "e37410aa",
   "metadata": {},
   "outputs": [],
   "source": [
    "# PASO 2: Identificar las filas que representan los totales municipales\n",
    "# Las filas con MUN == 0 son los totales estatales (no es aplicable aquí porque ya filtramos)\n",
    "# Las filas con LOC == 0 son los TOTALES MUNICIPALES (que incluyen todas sus localidades)\n",
    "df_municipios = df_ags[df_ags[\"LOC\"] ==0].copy()\n",
    "\n",
    "\n"
   ]
  },
  {
   "cell_type": "code",
   "execution_count": 7,
   "id": "d65b2116",
   "metadata": {},
   "outputs": [],
   "source": [
    "# paso 3 seleccionar columnas necesarias \n",
    "df_analisis = df_municipios[[\"ENTIDAD\",\"NOM_ENT\", \"MUN\", \"NOM_MUN\", \"POBTOT\",\"POBFEM\",\"POBMAS\"]]"
   ]
  },
  {
   "cell_type": "code",
   "execution_count": 8,
   "id": "979382e7",
   "metadata": {},
   "outputs": [
    {
     "name": "stdout",
     "output_type": "stream",
     "text": [
      "\n",
      " Municipios  de Aguascalientes y su poblacion total \n",
      "      ENTIDAD         NOM_ENT  MUN                             NOM_MUN  \\\n",
      "0           1  Aguascalientes    0  Total de la entidad Aguascalientes   \n",
      "3           1  Aguascalientes    1                      Aguascalientes   \n",
      "571         1  Aguascalientes    2                            Asientos   \n",
      "746         1  Aguascalientes    3                            Calvillo   \n",
      "915         1  Aguascalientes    4                               Cosío   \n",
      "982         1  Aguascalientes    5                         Jesús María   \n",
      "1200        1  Aguascalientes    6                 Pabellón de Arteaga   \n",
      "1394        1  Aguascalientes    7                     Rincón de Romos   \n",
      "1651        1  Aguascalientes    8                  San José de Gracia   \n",
      "1686        1  Aguascalientes    9                            Tepezalá   \n",
      "1790        1  Aguascalientes   10                            El Llano   \n",
      "1960        1  Aguascalientes   11           San Francisco de los Romo   \n",
      "\n",
      "       POBTOT  POBFEM  POBMAS  \n",
      "0     1425607  728924  696683  \n",
      "3      948990  486917  462073  \n",
      "571     51536   26275   25261  \n",
      "746     58250   29687   28563  \n",
      "915     17000    8708    8292  \n",
      "982    129929   65710   64219  \n",
      "1200    47646   24269   23377  \n",
      "1394    57369   29268   28101  \n",
      "1651     9552    5020    4532  \n",
      "1686    22485   11371   11114  \n",
      "1790    20853   10407   10446  \n",
      "1960    61997   31292   30705  \n"
     ]
    }
   ],
   "source": [
    "print(\"\\n Municipios  de Aguascalientes y su poblacion total \")\n",
    "print(df_analisis)"
   ]
  },
  {
   "cell_type": "markdown",
   "id": "99229b8a",
   "metadata": {},
   "source": []
  },
  {
   "cell_type": "markdown",
   "id": "5b3320a3",
   "metadata": {},
   "source": [
    "4.- Analizar \n",
    "Esta es la etapa donde se explotan los datos para responder a las preguntas iniciales.\n",
    "\n",
    "- Cálculos principales:\n",
    "\n",
    "* Suma total: Población total de México y de Aguascalientes.\n",
    "\n",
    "* Distribución: Calcular el porcentaje de la población de Aguascalientes con respecto a la población nacional.\n",
    "\n",
    "* Ranking: Ordenar los municipios de Aguascalientes de mayor a menor población.\n",
    "\n",
    "- Análisis comparativo: Comparar la población del municipio de Aguascalientes (capital) con el resto de los municipios.\n",
    "\n",
    "- Análisis de tendencias (si tienes datos históricos): Calcular la tasa de crecimiento poblacional anual o intercensal para ver qué municipios crecen más rápido."
   ]
  },
  {
   "cell_type": "markdown",
   "id": "f21b4fb4",
   "metadata": {},
   "source": [
    "ANALISIS DESCRIPTIVO "
   ]
  },
  {
   "cell_type": "code",
   "execution_count": 44,
   "id": "0cbb803e",
   "metadata": {},
   "outputs": [
    {
     "name": "stdout",
     "output_type": "stream",
     "text": [
      "Población total de Aguascalientes : 1425607\n"
     ]
    }
   ],
   "source": [
    "# Cálculo 1: Población Total de Aguascalientes ()\n",
    "poblacion_ags_total = df_data.loc[df_data['NOM_LOC'] == 'Total de la Entidad', 'POBTOT'].values[0]\n",
    "print(f\"Población total de Aguascalientes : {poblacion_ags_total}\")"
   ]
  },
  {
   "cell_type": "code",
   "execution_count": 45,
   "id": "597b9a09",
   "metadata": {},
   "outputs": [
    {
     "name": "stdout",
     "output_type": "stream",
     "text": [
      "Poblacion total de Aguscalientes  0       1425607\n",
      "3        948990\n",
      "571       51536\n",
      "746       58250\n",
      "915       17000\n",
      "982      129929\n",
      "1200      47646\n",
      "1394      57369\n",
      "1651       9552\n",
      "1686      22485\n",
      "1790      20853\n",
      "1960      61997\n",
      "Name: POBTOT, dtype: int64\n"
     ]
    }
   ],
   "source": [
    "# Cálculo 1: Población Total de Aguascalientes ()\n",
    "poblacion_ags_total_col = df_analisis[\"POBTOT\"]\n",
    "print(\"Poblacion total de Aguscalientes \",poblacion_ags_total_col)"
   ]
  },
  {
   "cell_type": "code",
   "execution_count": 46,
   "id": "50a34331",
   "metadata": {},
   "outputs": [
    {
     "name": "stdout",
     "output_type": "stream",
     "text": [
      "Población total de mujeres  de Aguascalientes : 728924\n",
      "Población total de hombres de Aguascalientes : 696683\n"
     ]
    }
   ],
   "source": [
    "# filtrado para la poblacion entre mujeres y hombres \n",
    "poblacion_ags_mujeres = df_data.loc[df_data['NOM_LOC'] == 'Total de la Entidad', 'POBFEM'].values[0]\n",
    "print(f\"Población total de mujeres  de Aguascalientes : {poblacion_ags_mujeres}\")\n",
    "\n",
    "poblacion_ags_hombres = df_data.loc[df_data['NOM_LOC'] == 'Total de la Entidad', 'POBMAS'].values[0]\n",
    "print(f\"Población total de hombres de Aguascalientes : {poblacion_ags_hombres}\")"
   ]
  },
  {
   "cell_type": "code",
   "execution_count": 47,
   "id": "a3ed16f8",
   "metadata": {},
   "outputs": [
    {
     "name": "stdout",
     "output_type": "stream",
     "text": [
      "Tipo de poblacion_ags_mujeres: <class 'str'>\n",
      "Tipo de poblacion_ags_total: <class 'numpy.int64'>\n",
      "Tipo de poblacion_ags_hombres: <class 'str'>\n",
      "Porcentaje de Mujeres en AGS: 51.13% 728924.0\n",
      "Porcentaje de Hombres en AGS: 48.87% 696683.0\n"
     ]
    }
   ],
   "source": [
    "# porcentaje de la poblacion por genero \n",
    "#verificar tipo de dato para poder dividir \n",
    "print(f\"Tipo de poblacion_ags_mujeres: {type(poblacion_ags_mujeres)}\")\n",
    "print(f\"Tipo de poblacion_ags_total: {type(poblacion_ags_total)}\")\n",
    "print(f\"Tipo de poblacion_ags_hombres: {type(poblacion_ags_hombres)}\")\n",
    "\n",
    "# cambiar tipo de dato \n",
    "poblacion_ags_mujeres = float(poblacion_ags_mujeres)\n",
    "poblacion_ags_total   = float(poblacion_ags_total)\n",
    "poblacion_ags_hombres = float(poblacion_ags_hombres)\n",
    "\n",
    "# calculando porcentaje en Mujeres \n",
    "porcentaje_ags_mujeres = (poblacion_ags_mujeres / poblacion_ags_total) * 100\n",
    "print(f\"Porcentaje de Mujeres en AGS: {porcentaje_ags_mujeres:.2f}%\", poblacion_ags_mujeres)\n",
    "\n",
    "# calculando porcentaje en Hombres\n",
    "porcentaje_ags_hombres = (poblacion_ags_hombres / poblacion_ags_total) * 100\n",
    "print(f\"Porcentaje de Hombres en AGS: {porcentaje_ags_hombres:.2f}%\", poblacion_ags_hombres)"
   ]
  },
  {
   "cell_type": "markdown",
   "id": "e5ab1570",
   "metadata": {},
   "source": []
  },
  {
   "cell_type": "code",
   "execution_count": 27,
   "id": "a1c140a9",
   "metadata": {},
   "outputs": [
    {
     "name": "stdout",
     "output_type": "stream",
     "text": [
      "\n",
      "--- Análisis Ordenado de Población Municipal (%) ---\n",
      "      ENTIDAD         NOM_ENT  MUN                             NOM_MUN  \\\n",
      "0           1  Aguascalientes    0  Total de la entidad Aguascalientes   \n",
      "3           1  Aguascalientes    1                      Aguascalientes   \n",
      "982         1  Aguascalientes    5                         Jesús María   \n",
      "1960        1  Aguascalientes   11           San Francisco de los Romo   \n",
      "746         1  Aguascalientes    3                            Calvillo   \n",
      "1394        1  Aguascalientes    7                     Rincón de Romos   \n",
      "571         1  Aguascalientes    2                            Asientos   \n",
      "1200        1  Aguascalientes    6                 Pabellón de Arteaga   \n",
      "1686        1  Aguascalientes    9                            Tepezalá   \n",
      "1790        1  Aguascalientes   10                            El Llano   \n",
      "915         1  Aguascalientes    4                               Cosío   \n",
      "1651        1  Aguascalientes    8                  San José de Gracia   \n",
      "\n",
      "       POBTOT  POBFEM  POBMAS  POB_PORCENTAJE  \n",
      "0     1425607  728924  696683      100.000000  \n",
      "3      948990  486917  462073       66.567434  \n",
      "982    129929   65710   64219        9.113942  \n",
      "1960    61997   31292   30705        4.348814  \n",
      "746     58250   29687   28563        4.085979  \n",
      "1394    57369   29268   28101        4.024181  \n",
      "571     51536   26275   25261        3.615022  \n",
      "1200    47646   24269   23377        3.342155  \n",
      "1686    22485   11371   11114        1.577223  \n",
      "1790    20853   10407   10446        1.462745  \n",
      "915     17000    8708    8292        1.192475  \n",
      "1651     9552    5020    4532        0.670030  \n"
     ]
    }
   ],
   "source": [
    "# Cálculo 3: Ordenar para identificar los más/menos poblados\n",
    "df_analisis_ordenado = df_analisis.sort_values(by = \"POBTOT\",ascending = False)\n",
    "print(\"\\n--- Análisis Ordenado de Población Municipal (%) ---\")\n",
    "print(df_analisis_ordenado)"
   ]
  },
  {
   "cell_type": "code",
   "execution_count": 50,
   "id": "8038159c",
   "metadata": {},
   "outputs": [
    {
     "name": "stdout",
     "output_type": "stream",
     "text": [
      "\n",
      " El municipio mas poblado es :  Total de la entidad Aguascalientes\n",
      "\n",
      " El municipio menos poblado es:  San José de Gracia\n"
     ]
    }
   ],
   "source": [
    "# Identificar el municipio más y menos poblado\n",
    "municipio_mas_poblado = df_analisis_ordenado.iloc[0][\"NOM_MUN\"]\n",
    "municipio_menos_poblado = df_analisis_ordenado.iloc[-1][\"NOM_MUN\"]\n",
    "\n",
    "print(\"\\n El municipio mas poblado es : \",municipio_mas_poblado)\n",
    "print(\"\\n El municipio menos poblado es: \", municipio_menos_poblado)"
   ]
  },
  {
   "cell_type": "markdown",
   "id": "9767e375",
   "metadata": {},
   "source": [
    "5.- Compartir \n",
    "Se presentan los hallazgos de manera clara y visual.\n",
    "\n",
    "- Visualizaciones:\n",
    "\n",
    "* Gráfico de barras: Población total por municipio de Aguascalientes.\n",
    "\n",
    "* Gráfico de pastel o Anillo (Donut Chart): Distribución porcentual de la población municipal de Aguascalientes.\n",
    "\n",
    "* Mapas (si la herramienta lo permite): Un mapa de calor (coropletas) de Aguascalientes mostrando la densidad o la población en cada municipio.\n",
    "\n",
    "- Narrativa: Presenta la historia de tus datos: \"Aguascalientes representa el X% de la población nacional, y dentro del estado, el municipio capital concentra el Y% de los habitantes.\"\n"
   ]
  },
  {
   "cell_type": "code",
   "execution_count": 64,
   "id": "1ad05929",
   "metadata": {},
   "outputs": [
    {
     "name": "stdout",
     "output_type": "stream",
     "text": [
      "      Sexo  Poblacion\n",
      "0  Mujeres   728924.0\n",
      "1  Hombres   696683.0\n"
     ]
    }
   ],
   "source": [
    "# Crear un DataFrame simple para el gráfico de pastel\n",
    "data_barras = pd.DataFrame({\n",
    "    'Sexo': ['Mujeres', 'Hombres'],\n",
    "    'Poblacion': [poblacion_ags_mujeres, poblacion_ags_hombres]\n",
    "})\n",
    "print(data_barras)"
   ]
  },
  {
   "cell_type": "code",
   "execution_count": 68,
   "id": "4b164b34",
   "metadata": {},
   "outputs": [
    {
     "data": {
      "image/png": "[encoded data removed]",
      "text/plain": [
       "<Figure size 700x600 with 1 Axes>"
      ]
     },
     "metadata": {},
     "output_type": "display_data"
    }
   ],
   "source": [
    "import matplotlib.pyplot as plt\n",
    "import pandas as pd # Necesario si quieres usar DataFrame para el gráfico, aunque Matplotlib puede usar listas directamente\n",
    "\n",
    "# --- 1. Crear el DataFrame para el Gráfico ---\n",
    "# Organizamos los datos en un DataFrame de Pandas para un manejo más limpio\n",
    "data_sexo_estatal = pd.DataFrame({\n",
    "    'Sexo': ['Mujeres', 'Hombres'],\n",
    "    'Poblacion': [poblacion_ags_mujeres, poblacion_ags_hombres]\n",
    "})\n",
    "\n",
    "# --- 2. Crear la Visualización ---\n",
    "plt.figure(figsize=(7, 6))\n",
    "\n",
    "# Crear el gráfico de barras\n",
    "# x: Categoría (Sexo), y: Valor (Poblacion)\n",
    "plt.bar(\n",
    "    data_sexo_estatal['Sexo'],\n",
    "    data_sexo_estatal['Poblacion'],\n",
    "    color=['lightcoral', 'skyblue']\n",
    ")\n",
    "\n",
    "# Personalizar el gráfico\n",
    "plt.title('Población Total de Aguascalientes por Sexo', fontsize=14)\n",
    "plt.xlabel('Sexo', fontsize=12)\n",
    "plt.ylabel('Población', fontsize=12)\n",
    "\n",
    "# Formatear el eje Y para evitar notación científica y hacerlo legible\n",
    "plt.ticklabel_format(style='plain', axis='y')\n",
    "\n",
    "# Mostrar los valores exactos en la parte superior de cada barra (opcional pero muy útil)\n",
    "for i in range(len(data_sexo_estatal)):\n",
    "    plt.text(\n",
    "        i, # Posición X (índice de la barra)\n",
    "        data_sexo_estatal['Poblacion'][i] + 5000, # Posición Y (un poco arriba de la barra)\n",
    "        f\"{data_sexo_estatal['Poblacion'][i]:,}\", # Texto formateado con comas\n",
    "        ha='center',\n",
    "        fontsize=10\n",
    "    )\n",
    "\n",
    "# ➡️ Añadir la Referencia de la Fuente (en la parte inferior)\n",
    "referencia_texto = \"Fuente: INEGI, Censo de Población y Vivienda 2020.\"\n",
    "plt.figtext(\n",
    "    0.05,\n",
    "    0.01,\n",
    "    referencia_texto,\n",
    "    ha='left',\n",
    "    fontsize=8,\n",
    "    color='gray'\n",
    ")\n",
    "\n",
    "plt.tight_layout(rect=[0, 0.05, 1, 1]) # Ajusta el espacio\n",
    "plt.show()"
   ]
  },
  {
   "cell_type": "code",
   "execution_count": 54,
   "id": "d3349868",
   "metadata": {},
   "outputs": [
    {
     "name": "stdout",
     "output_type": "stream",
     "text": [
      "      Sexo  Poblacion\n",
      "0  Mujeres   728924.0\n",
      "1  Hombres   696683.0\n"
     ]
    }
   ],
   "source": [
    "\n",
    "# Crear un DataFrame simple para el gráfico de pastel\n",
    "data_pastel = pd.DataFrame({\n",
    "    'Sexo': ['Mujeres', 'Hombres'],\n",
    "    'Poblacion': [poblacion_ags_mujeres, poblacion_ags_hombres]\n",
    "})\n",
    "print(data_pastel)"
   ]
  },
  {
   "cell_type": "code",
   "execution_count": 57,
   "id": "7c491dc5",
   "metadata": {},
   "outputs": [
    {
     "data": {
      "image/png": "[encoded data removed]",
      "text/plain": [
       "<Figure size 640x480 with 1 Axes>"
      ]
     },
     "metadata": {},
     "output_type": "display_data"
    }
   ],
   "source": [
    "# configurar la figura para el grafico de pastel \n",
    "plt.Figure(figsize=(8,8))\n",
    "\n",
    "# etiqueteas para la leyenda y el porcentaje \n",
    "labels = data_pastel[\"Sexo\"]\n",
    "sizes = data_pastel[\"Poblacion\"]\n",
    "colors  = [\"lightcoral\", \"skyblue\"]\n",
    "\n",
    "# crear grafico pastel \n",
    "plt.pie(\n",
    "    sizes,\n",
    "    labels =labels,\n",
    "    colors= colors,\n",
    "    # autopct formatea el texto del porcentaje (1.1f%%)\n",
    "    autopct = \"%1.1f%%\",\n",
    "    startangle = 90,\n",
    "    wedgeprops={\"edgecolor\": \"black\"} #añadir un borde a las rebanadas \n",
    "    )\n",
    "# titulo y centrado del gradfico \n",
    "plt.title(\n",
    "    f'Proporción Total de Población por Sexo en Aguascalientes\\n(Total: {poblacion_ags_total} )',\n",
    "    fontsize= 14,\n",
    "    pad = 20\n",
    ")\n",
    "# ➡️ Añadir la Referencia de la Fuente con plt.figtext()\n",
    "referencia_texto = \"Fuente: INEGI, Censo de Población y Vivienda 2020 .\"\n",
    "\n",
    "# plt.figtext(x, y, texto, **kwargs)\n",
    "# x=0.05 es cerca del borde izquierdo. y=0.01 es cerca del borde inferior.\n",
    "plt.figtext(\n",
    "    0.02, # Posición X (cerca del borde izquierdo)\n",
    "    0.01, # Posición Y (cerca del borde inferior)\n",
    "    referencia_texto,\n",
    "    ha='left',\n",
    "    fontsize=9,\n",
    "    color='gray'\n",
    ")\n",
    "# asegura que el pastel sea un circulo\n",
    "plt.axis(\"equal\")\n",
    "plt.tight_layout()\n",
    "plt.show()"
   ]
  },
  {
   "cell_type": "markdown",
   "id": "ece62440",
   "metadata": {},
   "source": [
    "\n",
    "6.- Actuar \n",
    "Se utiliza el análisis para tomar decisiones o hacer recomendaciones.\n",
    "\n",
    "- Recomendaciones/Conclusiones: ¿Qué implican estos números?\n",
    "\n",
    "* Si un municipio es pequeño, ¿necesita más inversión en infraestructura para evitar la migración?\n",
    "\n",
    "* Si el municipio capital está muy concentrado, ¿se necesitan políticas de desarrollo urbano para el crecimiento ordenado?\n",
    "\n",
    "- Ejemplo de acción: Un gobierno municipal podría usar el dato del rápido crecimiento poblacional en cierto municipio para planificar la construcción de nuevas escuelas o centros de salud.\n"
   ]
  }
 ],
 "metadata": {
  "kernelspec": {
   "display_name": "Python 3",
   "language": "python",
   "name": "python3"
  },
  "language_info": {
   "codemirror_mode": {
    "name": "ipython",
    "version": 3
   },
   "file_extension": ".py",
   "mimetype": "text/x-python",
   "name": "python",
   "nbconvert_exporter": "python",
   "pygments_lexer": "ipython3",
   "version": "3.13.5"
  }
 },
 "nbformat": 4,
 "nbformat_minor": 5
}
